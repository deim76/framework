{
 "cells": [
  {
   "cell_type": "code",
   "execution_count": null,
   "metadata": {},
   "outputs": [],
   "source": []
  },
  {
   "cell_type": "markdown",
   "metadata": {},
   "source": [
    "# Практическое задание к уроку 4"
   ]
  },
  {
   "cell_type": "markdown",
   "metadata": {},
   "source": [
    "#### 1. Необходимо доработать обучение нейросети, что мы разбирали на уроке.(Посмотрите чего не хватает в процессе обучения и подготовки данных)"
   ]
  },
  {
   "cell_type": "code",
   "execution_count": 1,
   "metadata": {},
   "outputs": [],
   "source": [
    "import numpy as np\n",
    "import pandas as pd\n",
    "import os\n",
    "import matplotlib.pyplot as plt\n",
    "\n",
    "from torch.utils.data import Dataset, DataLoader\n",
    "from PIL import Image\n",
    "\n",
    "import torch\n",
    "import torch.nn as nn\n",
    "from torch.nn import functional as F"
   ]
  },
  {
   "cell_type": "code",
   "execution_count": 2,
   "metadata": {},
   "outputs": [
    {
     "data": {
      "text/plain": [
       "device(type='cuda', index=0)"
      ]
     },
     "execution_count": 2,
     "metadata": {},
     "output_type": "execute_result"
    }
   ],
   "source": [
    "device = torch.device('cuda:0' if torch.cuda.is_available() else 'cpu')\n",
    "device"
   ]
  },
  {
   "cell_type": "code",
   "execution_count": 3,
   "metadata": {},
   "outputs": [],
   "source": [
    "\n",
    "\n",
    "class UNet(nn.Module):\n",
    "\n",
    "    def __init__(self, num_classes):\n",
    "        super(UNet, self).__init__()\n",
    "        self.num_classes = num_classes\n",
    "\n",
    "        # Левая сторона (Путь уменьшения размерности картинки)\n",
    "        self.down_conv_11 = self.conv_block(in_channels=3, out_channels=64)\n",
    "        self.down_conv_12 = nn.MaxPool2d(kernel_size=2, stride=2)\n",
    "        self.down_conv_21 = self.conv_block(in_channels=64, out_channels=128)\n",
    "        self.down_conv_22 = nn.MaxPool2d(kernel_size=2, stride=2)\n",
    "        self.down_conv_31 = self.conv_block(in_channels=128, out_channels=256)\n",
    "        self.down_conv_32 = nn.MaxPool2d(kernel_size=2, stride=2)\n",
    "        self.down_conv_41 = self.conv_block(in_channels=256, out_channels=512)\n",
    "        self.down_conv_42 = nn.MaxPool2d(kernel_size=2, stride=2)\n",
    "        \n",
    "        self.middle = self.conv_block(in_channels=512, out_channels=1024)\n",
    "        \n",
    "        # Правая сторона (Путь увеличения размерности картинки)\n",
    "        self.up_conv_11 = nn.ConvTranspose2d(in_channels=1024, out_channels=512, kernel_size=3, stride=2, padding=1, output_padding=1)\n",
    "        self.up_conv_12 = self.conv_block(in_channels=1024, out_channels=512)\n",
    "        self.up_conv_21 = nn.ConvTranspose2d(in_channels=512, out_channels=256, kernel_size=3, stride=2, padding=1, output_padding=1)\n",
    "        self.up_conv_22 = self.conv_block(in_channels=512, out_channels=256)\n",
    "        self.up_conv_31 = nn.ConvTranspose2d(in_channels=256, out_channels=128, kernel_size=3, stride=2, padding=1, output_padding=1)\n",
    "        self.up_conv_32 = self.conv_block(in_channels=256, out_channels=128)\n",
    "        self.up_conv_41 = nn.ConvTranspose2d(in_channels=128, out_channels=64, kernel_size=3, stride=2, padding=1, output_padding=1)\n",
    "        self.up_conv_42 = self.conv_block(in_channels=128, out_channels=64)\n",
    "        \n",
    "        self.output = nn.Conv2d(in_channels=64, out_channels=num_classes, kernel_size=3, stride=1, padding=1)\n",
    "    \n",
    "    @staticmethod\n",
    "    def conv_block(in_channels, out_channels):\n",
    "        block = nn.Sequential(nn.Conv2d(in_channels=in_channels, out_channels=out_channels, kernel_size=3, stride=1, padding=1),\n",
    "                                    nn.ReLU(),\n",
    "                                    nn.BatchNorm2d(num_features=out_channels),\n",
    "                                    nn.Conv2d(in_channels=out_channels, out_channels=out_channels, kernel_size=3, stride=1, padding=1),\n",
    "                                    nn.ReLU(),\n",
    "                                    nn.BatchNorm2d(num_features=out_channels))\n",
    "        return block\n",
    "    \n",
    "    @staticmethod\n",
    "    def crop_tensor(target_tensor, tensor):\n",
    "        target_size = target_tensor.size()[2]\n",
    "        tensor_size = tensor.size()[2]\n",
    "        delta = tensor_size - target_size\n",
    "        delta = delta // 2\n",
    "\n",
    "        return tensor[:,:, delta:tensor_size-delta, delta:tensor_size-delta]\n",
    "\n",
    "\n",
    "    def forward(self, X):\n",
    "        # Проход по левой стороне\n",
    "        x1 = self.down_conv_11(X) # [-1, 64, 256, 256]\n",
    "        x2 = self.down_conv_12(x1) # [-1, 64, 128, 128]\n",
    "        x3 = self.down_conv_21(x2) # [-1, 128, 128, 128]\n",
    "        x4 = self.down_conv_22(x3) # [-1, 128, 64, 64]\n",
    "        x5 = self.down_conv_31(x4) # [-1, 256, 64, 64]\n",
    "        x6 = self.down_conv_32(x5) # [-1, 256, 32, 32]\n",
    "        x7 = self.down_conv_41(x6) # [-1, 512, 32, 32]\n",
    "        x8 = self.down_conv_42(x7) # [-1, 512, 16, 16]\n",
    "        \n",
    "        middle_out = self.middle(x8) # [-1, 1024, 16, 16]\n",
    "\n",
    "        # Проход по правой стороне\n",
    "        x = self.up_conv_11(middle_out) # [-1, 512, 32, 32]\n",
    "        y = self.crop_tensor(x, x7)\n",
    "        x = self.up_conv_12(torch.cat((x, y), dim=1)) # [-1, 1024, 32, 32] -> [-1, 512, 32, 32]\n",
    "        \n",
    "        x = self.up_conv_21(x) # [-1, 256, 64, 64]\n",
    "        y = self.crop_tensor(x, x5)\n",
    "        x = self.up_conv_22(torch.cat((x, y), dim=1)) # [-1, 512, 64, 64] -> [-1, 256, 64, 64]\n",
    "        \n",
    "        x = self.up_conv_31(x) # [-1, 128, 128, 128]\n",
    "        y = self.crop_tensor(x, x3)\n",
    "        x = self.up_conv_32(torch.cat((x, y), dim=1)) # [-1, 256, 128, 128] -> [-1, 128, 128, 128]\n",
    "        \n",
    "        x = self.up_conv_41(x) # [-1, 64, 256, 256]\n",
    "        y = self.crop_tensor(x, x1)\n",
    "        x = self.up_conv_42(torch.cat((x, y), dim=1)) # [-1, 128, 256, 256] -> [-1, 64, 256, 256]\n",
    "        \n",
    "        output = self.output(x) # [-1, num_classes, 256, 256]\n",
    "\n",
    "        return output"
   ]
  },
  {
   "cell_type": "code",
   "execution_count": 5,
   "metadata": {},
   "outputs": [
    {
     "data": {
      "image/png": "[encoded data removed]",
      "text/plain": [
       "<Figure size 432x288 with 1 Axes>"
      ]
     },
     "metadata": {
      "needs_background": "light"
     },
     "output_type": "display_data"
    },
    {
     "data": {
      "image/png": "[encoded data removed]",
      "text/plain": [
       "<Figure size 432x288 with 1 Axes>"
      ]
     },
     "metadata": {
      "needs_background": "light"
     },
     "output_type": "display_data"
    },
    {
     "data": {
      "image/png": "[encoded data removed]",
      "text/plain": [
       "<Figure size 432x288 with 1 Axes>"
      ]
     },
     "metadata": {
      "needs_background": "light"
     },
     "output_type": "display_data"
    },
    {
     "data": {
      "image/png": "[encoded data removed]",
      "text/plain": [
       "<Figure size 432x288 with 1 Axes>"
      ]
     },
     "metadata": {
      "needs_background": "light"
     },
     "output_type": "display_data"
    },
    {
     "data": {
      "image/png": "[encoded data removed]",
      "text/plain": [
       "<Figure size 432x288 with 1 Axes>"
      ]
     },
     "metadata": {
      "needs_background": "light"
     },
     "output_type": "display_data"
    },
    {
     "data": {
      "image/png": "[encoded data removed]",
      "text/plain": [
       "<Figure size 432x288 with 1 Axes>"
      ]
     },
     "metadata": {
      "needs_background": "light"
     },
     "output_type": "display_data"
    },
    {
     "data": {
      "image/png": "[encoded data removed]",
      "text/plain": [
       "<Figure size 432x288 with 1 Axes>"
      ]
     },
     "metadata": {
      "needs_background": "light"
     },
     "output_type": "display_data"
    },
    {
     "data": {
      "image/png": "[encoded data removed]",
      "text/plain": [
       "<Figure size 432x288 with 1 Axes>"
      ]
     },
     "metadata": {
      "needs_background": "light"
     },
     "output_type": "display_data"
    },
    {
     "data": {
      "image/png": "[encoded data removed]",
      "text/plain": [
       "<Figure size 432x288 with 1 Axes>"
      ]
     },
     "metadata": {
      "needs_background": "light"
     },
     "output_type": "display_data"
    },
    {
     "data": {
      "image/png": "[encoded data removed]",
      "text/plain": [
       "<Figure size 432x288 with 1 Axes>"
      ]
     },
     "metadata": {
      "needs_background": "light"
     },
     "output_type": "display_data"
    },
    {
     "data": {
      "image/png": "[encoded data removed]",
      "text/plain": [
       "<Figure size 432x288 with 1 Axes>"
      ]
     },
     "metadata": {
      "needs_background": "light"
     },
     "output_type": "display_data"
    },
    {
     "data": {
      "image/png": "[encoded data removed]",
      "text/plain": [
       "<Figure size 432x288 with 1 Axes>"
      ]
     },
     "metadata": {
      "needs_background": "light"
     },
     "output_type": "display_data"
    }
   ],
   "source": [
    "for i in range(12):\n",
    "    mask = plt.imread('E:\\\\datasets\\\\pytoch\\\\Lesson4\\\\Self_driving_Car\\\\dataA\\\\dataA\\\\CameraSeg\\\\02_00_000.png')*255\n",
    "    mask = np.where(mask == i, 255, 0)\n",
    "    mask = mask[:,:,0]\n",
    "    plt.title(f'class {i}')\n",
    "    plt.imshow(mask)\n",
    "    plt.show()"
   ]
  },
  {
   "cell_type": "code",
   "execution_count": 6,
   "metadata": {},
   "outputs": [],
   "source": [
    "labels = ['Unlabeled','Building','Fence',\n",
    "                'Pedestrian', 'Pole', 'Roadline', 'Road',\n",
    "                'Sidewalk', 'Vegetation', 'Car','Wall',\n",
    "                 'Traffic sign']#'Other'"
   ]
  },
  {
   "cell_type": "code",
   "execution_count": 7,
   "metadata": {},
   "outputs": [],
   "source": [
    "cameraRGB = []\n",
    "cameraSeg = []\n",
    "for root, dirs, files in os.walk('E:\\\\datasets\\\\pytoch\\\\Lesson4\\\\Self_driving_Car'):\n",
    "    for name in files:\n",
    "        f = os.path.join(root, name)\n",
    "        if 'CameraRGB' in f:\n",
    "            cameraRGB.append(f)\n",
    "        elif 'CameraSeg' in f:\n",
    "            cameraSeg.append(f)\n",
    "        else:\n",
    "            break"
   ]
  },
  {
   "cell_type": "code",
   "execution_count": 8,
   "metadata": {},
   "outputs": [
    {
     "name": "stdout",
     "output_type": "stream",
     "text": [
      "                                           cameraRGB  \\\n",
      "0  E:\\datasets\\pytoch\\Lesson4\\Self_driving_Car\\da...   \n",
      "1  E:\\datasets\\pytoch\\Lesson4\\Self_driving_Car\\da...   \n",
      "2  E:\\datasets\\pytoch\\Lesson4\\Self_driving_Car\\da...   \n",
      "3  E:\\datasets\\pytoch\\Lesson4\\Self_driving_Car\\da...   \n",
      "4  E:\\datasets\\pytoch\\Lesson4\\Self_driving_Car\\da...   \n",
      "\n",
      "                                           cameraSeg  \n",
      "0  E:\\datasets\\pytoch\\Lesson4\\Self_driving_Car\\da...  \n",
      "1  E:\\datasets\\pytoch\\Lesson4\\Self_driving_Car\\da...  \n",
      "2  E:\\datasets\\pytoch\\Lesson4\\Self_driving_Car\\da...  \n",
      "3  E:\\datasets\\pytoch\\Lesson4\\Self_driving_Car\\da...  \n",
      "4  E:\\datasets\\pytoch\\Lesson4\\Self_driving_Car\\da...  \n"
     ]
    }
   ],
   "source": [
    "df = pd.DataFrame({'cameraRGB': cameraRGB, 'cameraSeg': cameraSeg})\n",
    "# Отсортируем  датафрейм по значениям\n",
    "df.sort_values(by='cameraRGB',inplace=True)\n",
    "# Используем функцию,\n",
    "# лагодаря которой индексация значений \n",
    "# будет начинаться с 0.\n",
    "df.reset_index(drop=True, inplace=True)\n",
    "# Выведем первые ять значений нашего датафрейма\n",
    "print(df.head(5))"
   ]
  },
  {
   "cell_type": "code",
   "execution_count": 4,
   "metadata": {},
   "outputs": [],
   "source": [
    "class CustomDatasetFromImages(Dataset):\n",
    "    def __init__(self, data_info):\n",
    "        # Подаем наш подготовленный датафрейм\n",
    "        self.data_info = data_info\n",
    "        \n",
    "        # Разделяем датафрейм на rgb картинки \n",
    "        self.image_arr = self.data_info.iloc[:,0]\n",
    "        # и на сегментированные картинки\n",
    "        self.label_arr = self.data_info.iloc[:,1]\n",
    "        \n",
    "        # Количество пар картинка-сегментация\n",
    "        self.data_len = len(self.data_info.index)\n",
    "    def __getitem__(self, index):\n",
    "        # Читаем картинку и сразу же представляем ее в виде numpy-массива \n",
    "        # размера 600х800 float-значний\n",
    "        img = np.asarray(Image.open(self.image_arr[index])).astype('float')\n",
    "        # Нормализуем изображение в значениях [0,1]\n",
    "        img = torch.as_tensor(img)/255    \n",
    "        # 1) unsqueeze - меняет размерность img c (600, 800, 3) -> (1, 600, 800, 3),\n",
    "        # т.е. оборачивает картинку в батч размером в одну картинку\n",
    "        # 2) permute - меняет местами измерения , т.е. (1, 600, 800, 3) -> (1, 3, 600, 800)\n",
    "        img = img.unsqueeze(0).permute(0,3,1,2)\n",
    "        # Мы используем функцию интерполяции для того,\n",
    "        # чтобы поменять рамерность картинки с 800х600 на 256х256\n",
    "        img = F.interpolate(input=img, size=256, align_corners=False, mode='bicubic')\n",
    "        \n",
    "        # итаем сегментированную картинку и сразу же представляем ее в виде numpy-массива \n",
    "        # размера 600х800 float-значний\n",
    "        lab = np.asarray(plt.imread(self.label_arr[index]))[:,:,0]*255\n",
    "        \n",
    "        # Упаковываем ее в pytorch-тензор и оборачиваем ее в батч из одной каринки,\n",
    "        # но при этом заполняем 13 каналов масками нужных классов\n",
    "        # Т.е. там, где например класс автомобилей (10 по счету канал) - все пиксели 0 \n",
    "        # если не принадлежат классу, и 1 если принадлежат \n",
    "        x_out = torch.as_tensor(np.where(lab == 0, 255, 0)).unsqueeze(0)\n",
    "        for i in range(1, 12):\n",
    "            mask = np.asarray(plt.imread(self.label_arr[index]))[:,:,0]*255\n",
    "            mask = np.where(mask == i, 255, 0)\n",
    "            x = torch.as_tensor(mask).unsqueeze(0)\n",
    "            x_out =  torch.cat((x_out,x),dim=0)       \n",
    "        x_out = x_out.float()\n",
    "        \n",
    "        lab = x_out.unsqueeze(0)\n",
    "        # делаем ресайз картинки на 256х256\n",
    "        lab = F.interpolate(input=lab, size=256, mode='nearest')\n",
    "        \n",
    "        \n",
    "        \n",
    "        return (img.float(), lab.float())\n",
    "\n",
    "    def __len__(self):\n",
    "        return self.data_len"
   ]
  },
  {
   "cell_type": "code",
   "execution_count": 10,
   "metadata": {},
   "outputs": [],
   "source": [
    "from sklearn.model_selection import train_test_split\n",
    "\n",
    "# 70 % в тренировочную выборку, 30 - в тестовую\n",
    "X_train, X_test = train_test_split(df,test_size=0.3)\n",
    "\n",
    "# Упорядочиваем индексацию\n",
    "X_train.reset_index(drop=True,inplace=True)\n",
    "X_test.reset_index(drop=True,inplace=True)\n",
    "\n",
    "# Оборачиваем каждую выборку в наш кастомный датасет\n",
    "train_data = CustomDatasetFromImages(X_train)\n",
    "test_data = CustomDatasetFromImages(X_test)"
   ]
  },
  {
   "cell_type": "code",
   "execution_count": 11,
   "metadata": {},
   "outputs": [
    {
     "data": {
      "text/plain": [
       "<__main__.CustomDatasetFromImages at 0x1cc5fb3b6d0>"
      ]
     },
     "execution_count": 11,
     "metadata": {},
     "output_type": "execute_result"
    }
   ],
   "source": [
    "train_data"
   ]
  },
  {
   "cell_type": "code",
   "execution_count": 12,
   "metadata": {},
   "outputs": [],
   "source": [
    "train_data_loader = DataLoader(train_data,batch_size=1,shuffle=True)\n",
    "test_data_loader = DataLoader(test_data,batch_size=1,shuffle=False)"
   ]
  },
  {
   "cell_type": "code",
   "execution_count": 5,
   "metadata": {},
   "outputs": [],
   "source": [
    "class SoftDiceLoss(nn.Module):\n",
    "    def __init__(self, weight=None, size_average=True):\n",
    "        super(SoftDiceLoss, self).__init__()\n",
    "\n",
    "    def forward(self, logits, targets):\n",
    "        smooth =1\n",
    "        num = targets.size(0)\n",
    "        probs = torch.sigmoid(logits)\n",
    "        m1 = probs.view(num, -1)\n",
    "        m2 = targets.view(num, -1)\n",
    "        intersection = (m1 * m2)\n",
    "\n",
    "        score =2. * (intersection.sum(1) + smooth) / (m1.sum(1) + m2.sum(1) + smooth)\n",
    "        score =score.sum() / num\n",
    "        return score"
   ]
  },
  {
   "cell_type": "code",
   "execution_count": 14,
   "metadata": {},
   "outputs": [
    {
     "name": "stdout",
     "output_type": "stream",
     "text": [
      "5 epochs, 3500 total_steps per epoch\n"
     ]
    }
   ],
   "source": [
    "learning_rate = 0.001\n",
    "epochs = 5\n",
    "\n",
    "Umodel = UNet(num_classes=12).to(device)\n",
    "optimizer = torch.optim.Adam(Umodel.parameters(), lr=learning_rate)\n",
    "criterion = SoftDiceLoss()\n",
    "\n",
    "total_steps = len(train_data_loader)\n",
    "print(f\"{epochs} epochs, {total_steps} total_steps per epoch\")"
   ]
  },
  {
   "cell_type": "code",
   "execution_count": 18,
   "metadata": {},
   "outputs": [
    {
     "name": "stdout",
     "output_type": "stream",
     "text": [
      "Train Epoch: 1, Loss: 0.006898138206452131\n",
      "Spend time for 300 images: 211.74587774276733 sec\n",
      "Train Epoch: 1, Loss: 0.0005523922154679894\n",
      "Spend time for 300 images: 218.22740483283997 sec\n",
      "Train Epoch: 1, Loss: 0.00013501121429726481\n",
      "Spend time for 300 images: 200.04861545562744 sec\n",
      "Train Epoch: 1, Loss: 9.845114982454106e-05\n",
      "Spend time for 300 images: 191.66053676605225 sec\n",
      "Train Epoch: 1, Loss: 0.00048259220784530044\n",
      "Spend time for 300 images: 191.64194083213806 sec\n",
      "Train Epoch: 1, Loss: 5.031789623899385e-05\n",
      "Spend time for 300 images: 195.31398177146912 sec\n",
      "Train Epoch: 1, Loss: 0.0011731745908036828\n",
      "Spend time for 300 images: 198.4104084968567 sec\n",
      "Train Epoch: 1, Loss: 4.6470158849842846e-05\n",
      "Spend time for 300 images: 198.49539732933044 sec\n",
      "Train Epoch: 1, Loss: 2.392787610006053e-05\n",
      "Spend time for 300 images: 198.494038105011 sec\n",
      "Train Epoch: 1, Loss: 6.214655877556652e-05\n",
      "Spend time for 300 images: 198.9981882572174 sec\n",
      "Train Epoch: 1, Loss: 2.853550176951103e-05\n",
      "Spend time for 300 images: 198.47767043113708 sec\n",
      "Epoch 1, loss:  0.005016309312056494\n",
      "Train Epoch: 2, Loss: 2.3228472855407745e-05\n",
      "Spend time for 300 images: 194.80890679359436 sec\n",
      "Train Epoch: 2, Loss: 7.360865311056841e-06\n",
      "Spend time for 300 images: 195.33978939056396 sec\n",
      "Train Epoch: 2, Loss: 4.228956186125288e-06\n",
      "Spend time for 300 images: 195.52091002464294 sec\n",
      "Train Epoch: 2, Loss: 7.074285804264946e-06\n",
      "Spend time for 300 images: 198.78132033348083 sec\n",
      "Train Epoch: 2, Loss: 2.462753400322981e-06\n",
      "Spend time for 300 images: 202.08121824264526 sec\n",
      "Train Epoch: 2, Loss: 2.417456244074856e-06\n",
      "Spend time for 300 images: 190.02208518981934 sec\n",
      "Train Epoch: 2, Loss: 1.5694752164563397e-06\n",
      "Spend time for 300 images: 191.21614408493042 sec\n",
      "Train Epoch: 2, Loss: 1.120765205087082e-06\n",
      "Spend time for 300 images: 191.01558566093445 sec\n",
      "Train Epoch: 2, Loss: 2.7907399271498434e-06\n",
      "Spend time for 300 images: 191.45002961158752 sec\n",
      "Train Epoch: 2, Loss: 1.5193558056125767e-06\n",
      "Spend time for 300 images: 191.70837306976318 sec\n",
      "Train Epoch: 2, Loss: 6.09922551575437e-07\n",
      "Spend time for 300 images: 192.5294303894043 sec\n",
      "Epoch 2, loss:  5.550480800934566e-06\n",
      "Train Epoch: 3, Loss: 1.2118556469431496e-06\n",
      "Spend time for 300 images: 200.6902050971985 sec\n",
      "Train Epoch: 3, Loss: 6.240713901206618e-07\n",
      "Spend time for 300 images: 221.1428816318512 sec\n",
      "Train Epoch: 3, Loss: 7.21393917046953e-07\n",
      "Spend time for 300 images: 218.12894773483276 sec\n",
      "Train Epoch: 3, Loss: 4.800858732778579e-07\n",
      "Spend time for 300 images: 264.0048830509186 sec\n",
      "Train Epoch: 3, Loss: 5.058673195890151e-07\n",
      "Spend time for 300 images: 282.23937129974365 sec\n",
      "Train Epoch: 3, Loss: 1.306788999499986e-05\n",
      "Spend time for 300 images: 306.0278136730194 sec\n",
      "Train Epoch: 3, Loss: 9.025668987305835e-06\n",
      "Spend time for 300 images: 327.69419026374817 sec\n",
      "Train Epoch: 3, Loss: 2.6302971036784584e-06\n",
      "Spend time for 300 images: 348.38911604881287 sec\n",
      "Train Epoch: 3, Loss: 1.5601951872667996e-06\n",
      "Spend time for 300 images: 316.5367805957794 sec\n",
      "Train Epoch: 3, Loss: 1.1130797474834253e-06\n",
      "Spend time for 300 images: 215.64154434204102 sec\n",
      "Train Epoch: 3, Loss: 1.0314719247617177e-06\n",
      "Spend time for 300 images: 222.36579966545105 sec\n",
      "Epoch 3, loss:  0.00018883342634098556\n",
      "Train Epoch: 4, Loss: 8.602412435720908e-07\n",
      "Spend time for 300 images: 196.2379276752472 sec\n",
      "Train Epoch: 4, Loss: 5.067749953013845e-07\n",
      "Spend time for 300 images: 196.0334906578064 sec\n",
      "Train Epoch: 4, Loss: 5.191595846554264e-07\n",
      "Spend time for 300 images: 202.7321560382843 sec\n",
      "Train Epoch: 4, Loss: 4.121741312701488e-07\n",
      "Spend time for 300 images: 221.95501947402954 sec\n",
      "Train Epoch: 4, Loss: 3.6774167710973416e-07\n",
      "Spend time for 300 images: 207.75416731834412 sec\n",
      "Train Epoch: 4, Loss: 4.294774100799259e-07\n",
      "Spend time for 300 images: 205.40393328666687 sec\n",
      "Train Epoch: 4, Loss: 3.7011363929195795e-07\n",
      "Spend time for 300 images: 213.92730283737183 sec\n",
      "Train Epoch: 4, Loss: 3.762766596082656e-07\n",
      "Spend time for 300 images: 205.55315256118774 sec\n",
      "Train Epoch: 4, Loss: 2.779310648293176e-07\n",
      "Spend time for 300 images: 210.33494591712952 sec\n",
      "Train Epoch: 4, Loss: 2.4801110498628987e-07\n",
      "Spend time for 300 images: 216.43368005752563 sec\n",
      "Train Epoch: 4, Loss: 2.1247778647648374e-07\n",
      "Spend time for 300 images: 214.48174905776978 sec\n",
      "Epoch 4, loss:  4.921426554216981e-07\n",
      "Train Epoch: 5, Loss: 2.2876466232446546e-07\n",
      "Spend time for 300 images: 206.71158123016357 sec\n",
      "Train Epoch: 5, Loss: 2.1787185744415183e-07\n",
      "Spend time for 300 images: 211.1851818561554 sec\n",
      "Train Epoch: 5, Loss: 1.6380042211494583e-07\n",
      "Spend time for 300 images: 209.11741733551025 sec\n",
      "Train Epoch: 5, Loss: 1.7930851470282505e-07\n",
      "Spend time for 300 images: 233.87513136863708 sec\n",
      "Train Epoch: 5, Loss: 1.6209659747801197e-07\n",
      "Spend time for 300 images: 238.21996235847473 sec\n",
      "Train Epoch: 5, Loss: 1.507329869809837e-07\n",
      "Spend time for 300 images: 243.1650893688202 sec\n",
      "Train Epoch: 5, Loss: 1.5992262092368037e-07\n",
      "Spend time for 300 images: 223.34916615486145 sec\n",
      "Train Epoch: 5, Loss: 1.5737377623281645e-07\n",
      "Spend time for 300 images: 228.79158329963684 sec\n",
      "Train Epoch: 5, Loss: 1.9139547191571182e-07\n",
      "Spend time for 300 images: 233.04297280311584 sec\n",
      "Train Epoch: 5, Loss: 1.4183640928422392e-07\n",
      "Spend time for 300 images: 221.29662823677063 sec\n",
      "Train Epoch: 5, Loss: 1.5362158478637866e-07\n",
      "Spend time for 300 images: 219.3821156024933 sec\n",
      "Epoch 5, loss:  1.805103517459169e-07\n"
     ]
    }
   ],
   "source": [
    "import time\n",
    "from torch.autograd import Variable\n",
    "\n",
    "# Полезная функция для детектирования аномалий в процессе обучения\n",
    "#torch.autograd.set_detect_anomaly(True)\n",
    "\n",
    "# запускаем главный тренировочный цикл\n",
    "epoch_losses = []\n",
    "for epoch in range(epochs):\n",
    "    \n",
    "    time1 = time.time()\n",
    "    running_loss =0.0\n",
    "    epoch_loss = []\n",
    "    for batch_idx, (data, labels) in enumerate(train_data_loader):\n",
    "        \n",
    "        data, labels = Variable(data), Variable(labels)\n",
    "        data = data.to(device)\n",
    "        labels = labels.to(device)\n",
    "        \n",
    "        optimizer.zero_grad()\n",
    "        \n",
    "        outputs = Umodel(data[0])\n",
    "\n",
    "        loss = criterion(outputs, labels[0])\n",
    "        loss.backward()\n",
    "        optimizer.step()\n",
    "        \n",
    "        running_loss += loss.item()\n",
    "        epoch_loss.append(loss.item())\n",
    "        if (batch_idx+1) % 300 == 299:\n",
    "            print(f'Train Epoch: {epoch+1}, Loss: {loss}')\n",
    "            time2 = time.time()\n",
    "            print(f'Spend time for 300 images: {time2-time1} sec')\n",
    "            time1 = time.time()\n",
    "            running_loss = 0.0\n",
    "    print(f'Epoch {epoch+1}, loss: ',np.mean(epoch_loss))\n",
    "    epoch_losses.append(epoch_loss)"
   ]
  },
  {
   "cell_type": "code",
   "execution_count": 26,
   "metadata": {},
   "outputs": [],
   "source": [
    "savePATH = './Umodel.pth'\n",
    "torch.save(Umodel.state_dict(), savePATH)"
   ]
  },
  {
   "cell_type": "code",
   "execution_count": 22,
   "metadata": {},
   "outputs": [
    {
     "data": {
      "text/plain": [
       "<All keys matched successfully>"
      ]
     },
     "execution_count": 22,
     "metadata": {},
     "output_type": "execute_result"
    }
   ],
   "source": [
    "savePATH = './Umodel.pth'\n",
    "net=UNet(12).to(device)\n",
    "net.load_state_dict(torch.load(savePATH))"
   ]
  },
  {
   "cell_type": "code",
   "execution_count": 23,
   "metadata": {},
   "outputs": [
    {
     "ename": "RuntimeError",
     "evalue": "CUDA out of memory. Tried to allocate 16.00 MiB (GPU 0; 2.00 GiB total capacity; 1.11 GiB already allocated; 9.09 MiB free; 1.14 GiB reserved in total by PyTorch)",
     "output_type": "error",
     "traceback": [
      "\u001b[1;31m---------------------------------------------------------------------------\u001b[0m",
      "\u001b[1;31mRuntimeError\u001b[0m                              Traceback (most recent call last)",
      "\u001b[1;32m<ipython-input-23-4003f9e19ed6>\u001b[0m in \u001b[0;36m<module>\u001b[1;34m\u001b[0m\n\u001b[0;32m      3\u001b[0m     \u001b[0mimages\u001b[0m\u001b[1;33m=\u001b[0m\u001b[0mimages\u001b[0m\u001b[1;33m.\u001b[0m\u001b[0mto\u001b[0m\u001b[1;33m(\u001b[0m\u001b[0mdevice\u001b[0m\u001b[1;33m)\u001b[0m\u001b[1;33m\u001b[0m\u001b[1;33m\u001b[0m\u001b[0m\n\u001b[0;32m      4\u001b[0m     \u001b[0mlabels\u001b[0m\u001b[1;33m=\u001b[0m\u001b[0mlabels\u001b[0m\u001b[1;33m.\u001b[0m\u001b[0mto\u001b[0m\u001b[1;33m(\u001b[0m\u001b[0mdevice\u001b[0m\u001b[1;33m)\u001b[0m\u001b[1;33m\u001b[0m\u001b[1;33m\u001b[0m\u001b[0m\n\u001b[1;32m----> 5\u001b[1;33m     \u001b[0moutputs\u001b[0m \u001b[1;33m=\u001b[0m \u001b[0mnet\u001b[0m\u001b[1;33m(\u001b[0m\u001b[0mimages\u001b[0m\u001b[1;33m[\u001b[0m\u001b[1;36m0\u001b[0m\u001b[1;33m]\u001b[0m\u001b[1;33m)\u001b[0m\u001b[1;33m\u001b[0m\u001b[1;33m\u001b[0m\u001b[0m\n\u001b[0m\u001b[0;32m      6\u001b[0m     \u001b[0mf\u001b[0m\u001b[1;33m,\u001b[0m \u001b[0maxarr\u001b[0m \u001b[1;33m=\u001b[0m \u001b[0mplt\u001b[0m\u001b[1;33m.\u001b[0m\u001b[0msubplots\u001b[0m\u001b[1;33m(\u001b[0m\u001b[1;36m1\u001b[0m\u001b[1;33m,\u001b[0m\u001b[1;36m3\u001b[0m\u001b[1;33m)\u001b[0m\u001b[1;33m\u001b[0m\u001b[1;33m\u001b[0m\u001b[0m\n\u001b[0;32m      7\u001b[0m \u001b[1;33m\u001b[0m\u001b[0m\n",
      "\u001b[1;32m~\\anaconda3\\lib\\site-packages\\torch\\nn\\modules\\module.py\u001b[0m in \u001b[0;36m_call_impl\u001b[1;34m(self, *input, **kwargs)\u001b[0m\n\u001b[0;32m    720\u001b[0m             \u001b[0mresult\u001b[0m \u001b[1;33m=\u001b[0m \u001b[0mself\u001b[0m\u001b[1;33m.\u001b[0m\u001b[0m_slow_forward\u001b[0m\u001b[1;33m(\u001b[0m\u001b[1;33m*\u001b[0m\u001b[0minput\u001b[0m\u001b[1;33m,\u001b[0m \u001b[1;33m**\u001b[0m\u001b[0mkwargs\u001b[0m\u001b[1;33m)\u001b[0m\u001b[1;33m\u001b[0m\u001b[1;33m\u001b[0m\u001b[0m\n\u001b[0;32m    721\u001b[0m         \u001b[1;32melse\u001b[0m\u001b[1;33m:\u001b[0m\u001b[1;33m\u001b[0m\u001b[1;33m\u001b[0m\u001b[0m\n\u001b[1;32m--> 722\u001b[1;33m             \u001b[0mresult\u001b[0m \u001b[1;33m=\u001b[0m \u001b[0mself\u001b[0m\u001b[1;33m.\u001b[0m\u001b[0mforward\u001b[0m\u001b[1;33m(\u001b[0m\u001b[1;33m*\u001b[0m\u001b[0minput\u001b[0m\u001b[1;33m,\u001b[0m \u001b[1;33m**\u001b[0m\u001b[0mkwargs\u001b[0m\u001b[1;33m)\u001b[0m\u001b[1;33m\u001b[0m\u001b[1;33m\u001b[0m\u001b[0m\n\u001b[0m\u001b[0;32m    723\u001b[0m         for hook in itertools.chain(\n\u001b[0;32m    724\u001b[0m                 \u001b[0m_global_forward_hooks\u001b[0m\u001b[1;33m.\u001b[0m\u001b[0mvalues\u001b[0m\u001b[1;33m(\u001b[0m\u001b[1;33m)\u001b[0m\u001b[1;33m,\u001b[0m\u001b[1;33m\u001b[0m\u001b[1;33m\u001b[0m\u001b[0m\n",
      "\u001b[1;32m<ipython-input-4-42d683516fa1>\u001b[0m in \u001b[0;36mforward\u001b[1;34m(self, X)\u001b[0m\n\u001b[0;32m     77\u001b[0m         \u001b[0mx\u001b[0m \u001b[1;33m=\u001b[0m \u001b[0mself\u001b[0m\u001b[1;33m.\u001b[0m\u001b[0mup_conv_41\u001b[0m\u001b[1;33m(\u001b[0m\u001b[0mx\u001b[0m\u001b[1;33m)\u001b[0m \u001b[1;31m# [-1, 64, 256, 256]\u001b[0m\u001b[1;33m\u001b[0m\u001b[1;33m\u001b[0m\u001b[0m\n\u001b[0;32m     78\u001b[0m         \u001b[0my\u001b[0m \u001b[1;33m=\u001b[0m \u001b[0mself\u001b[0m\u001b[1;33m.\u001b[0m\u001b[0mcrop_tensor\u001b[0m\u001b[1;33m(\u001b[0m\u001b[0mx\u001b[0m\u001b[1;33m,\u001b[0m \u001b[0mx1\u001b[0m\u001b[1;33m)\u001b[0m\u001b[1;33m\u001b[0m\u001b[1;33m\u001b[0m\u001b[0m\n\u001b[1;32m---> 79\u001b[1;33m         \u001b[0mx\u001b[0m \u001b[1;33m=\u001b[0m \u001b[0mself\u001b[0m\u001b[1;33m.\u001b[0m\u001b[0mup_conv_42\u001b[0m\u001b[1;33m(\u001b[0m\u001b[0mtorch\u001b[0m\u001b[1;33m.\u001b[0m\u001b[0mcat\u001b[0m\u001b[1;33m(\u001b[0m\u001b[1;33m(\u001b[0m\u001b[0mx\u001b[0m\u001b[1;33m,\u001b[0m \u001b[0my\u001b[0m\u001b[1;33m)\u001b[0m\u001b[1;33m,\u001b[0m \u001b[0mdim\u001b[0m\u001b[1;33m=\u001b[0m\u001b[1;36m1\u001b[0m\u001b[1;33m)\u001b[0m\u001b[1;33m)\u001b[0m \u001b[1;31m# [-1, 128, 256, 256] -> [-1, 64, 256, 256]\u001b[0m\u001b[1;33m\u001b[0m\u001b[1;33m\u001b[0m\u001b[0m\n\u001b[0m\u001b[0;32m     80\u001b[0m \u001b[1;33m\u001b[0m\u001b[0m\n\u001b[0;32m     81\u001b[0m         \u001b[0moutput\u001b[0m \u001b[1;33m=\u001b[0m \u001b[0mself\u001b[0m\u001b[1;33m.\u001b[0m\u001b[0moutput\u001b[0m\u001b[1;33m(\u001b[0m\u001b[0mx\u001b[0m\u001b[1;33m)\u001b[0m \u001b[1;31m# [-1, num_classes, 256, 256]\u001b[0m\u001b[1;33m\u001b[0m\u001b[1;33m\u001b[0m\u001b[0m\n",
      "\u001b[1;32m~\\anaconda3\\lib\\site-packages\\torch\\nn\\modules\\module.py\u001b[0m in \u001b[0;36m_call_impl\u001b[1;34m(self, *input, **kwargs)\u001b[0m\n\u001b[0;32m    720\u001b[0m             \u001b[0mresult\u001b[0m \u001b[1;33m=\u001b[0m \u001b[0mself\u001b[0m\u001b[1;33m.\u001b[0m\u001b[0m_slow_forward\u001b[0m\u001b[1;33m(\u001b[0m\u001b[1;33m*\u001b[0m\u001b[0minput\u001b[0m\u001b[1;33m,\u001b[0m \u001b[1;33m**\u001b[0m\u001b[0mkwargs\u001b[0m\u001b[1;33m)\u001b[0m\u001b[1;33m\u001b[0m\u001b[1;33m\u001b[0m\u001b[0m\n\u001b[0;32m    721\u001b[0m         \u001b[1;32melse\u001b[0m\u001b[1;33m:\u001b[0m\u001b[1;33m\u001b[0m\u001b[1;33m\u001b[0m\u001b[0m\n\u001b[1;32m--> 722\u001b[1;33m             \u001b[0mresult\u001b[0m \u001b[1;33m=\u001b[0m \u001b[0mself\u001b[0m\u001b[1;33m.\u001b[0m\u001b[0mforward\u001b[0m\u001b[1;33m(\u001b[0m\u001b[1;33m*\u001b[0m\u001b[0minput\u001b[0m\u001b[1;33m,\u001b[0m \u001b[1;33m**\u001b[0m\u001b[0mkwargs\u001b[0m\u001b[1;33m)\u001b[0m\u001b[1;33m\u001b[0m\u001b[1;33m\u001b[0m\u001b[0m\n\u001b[0m\u001b[0;32m    723\u001b[0m         for hook in itertools.chain(\n\u001b[0;32m    724\u001b[0m                 \u001b[0m_global_forward_hooks\u001b[0m\u001b[1;33m.\u001b[0m\u001b[0mvalues\u001b[0m\u001b[1;33m(\u001b[0m\u001b[1;33m)\u001b[0m\u001b[1;33m,\u001b[0m\u001b[1;33m\u001b[0m\u001b[1;33m\u001b[0m\u001b[0m\n",
      "\u001b[1;32m~\\anaconda3\\lib\\site-packages\\torch\\nn\\modules\\container.py\u001b[0m in \u001b[0;36mforward\u001b[1;34m(self, input)\u001b[0m\n\u001b[0;32m    115\u001b[0m     \u001b[1;32mdef\u001b[0m \u001b[0mforward\u001b[0m\u001b[1;33m(\u001b[0m\u001b[0mself\u001b[0m\u001b[1;33m,\u001b[0m \u001b[0minput\u001b[0m\u001b[1;33m)\u001b[0m\u001b[1;33m:\u001b[0m\u001b[1;33m\u001b[0m\u001b[1;33m\u001b[0m\u001b[0m\n\u001b[0;32m    116\u001b[0m         \u001b[1;32mfor\u001b[0m \u001b[0mmodule\u001b[0m \u001b[1;32min\u001b[0m \u001b[0mself\u001b[0m\u001b[1;33m:\u001b[0m\u001b[1;33m\u001b[0m\u001b[1;33m\u001b[0m\u001b[0m\n\u001b[1;32m--> 117\u001b[1;33m             \u001b[0minput\u001b[0m \u001b[1;33m=\u001b[0m \u001b[0mmodule\u001b[0m\u001b[1;33m(\u001b[0m\u001b[0minput\u001b[0m\u001b[1;33m)\u001b[0m\u001b[1;33m\u001b[0m\u001b[1;33m\u001b[0m\u001b[0m\n\u001b[0m\u001b[0;32m    118\u001b[0m         \u001b[1;32mreturn\u001b[0m \u001b[0minput\u001b[0m\u001b[1;33m\u001b[0m\u001b[1;33m\u001b[0m\u001b[0m\n\u001b[0;32m    119\u001b[0m \u001b[1;33m\u001b[0m\u001b[0m\n",
      "\u001b[1;32m~\\anaconda3\\lib\\site-packages\\torch\\nn\\modules\\module.py\u001b[0m in \u001b[0;36m_call_impl\u001b[1;34m(self, *input, **kwargs)\u001b[0m\n\u001b[0;32m    720\u001b[0m             \u001b[0mresult\u001b[0m \u001b[1;33m=\u001b[0m \u001b[0mself\u001b[0m\u001b[1;33m.\u001b[0m\u001b[0m_slow_forward\u001b[0m\u001b[1;33m(\u001b[0m\u001b[1;33m*\u001b[0m\u001b[0minput\u001b[0m\u001b[1;33m,\u001b[0m \u001b[1;33m**\u001b[0m\u001b[0mkwargs\u001b[0m\u001b[1;33m)\u001b[0m\u001b[1;33m\u001b[0m\u001b[1;33m\u001b[0m\u001b[0m\n\u001b[0;32m    721\u001b[0m         \u001b[1;32melse\u001b[0m\u001b[1;33m:\u001b[0m\u001b[1;33m\u001b[0m\u001b[1;33m\u001b[0m\u001b[0m\n\u001b[1;32m--> 722\u001b[1;33m             \u001b[0mresult\u001b[0m \u001b[1;33m=\u001b[0m \u001b[0mself\u001b[0m\u001b[1;33m.\u001b[0m\u001b[0mforward\u001b[0m\u001b[1;33m(\u001b[0m\u001b[1;33m*\u001b[0m\u001b[0minput\u001b[0m\u001b[1;33m,\u001b[0m \u001b[1;33m**\u001b[0m\u001b[0mkwargs\u001b[0m\u001b[1;33m)\u001b[0m\u001b[1;33m\u001b[0m\u001b[1;33m\u001b[0m\u001b[0m\n\u001b[0m\u001b[0;32m    723\u001b[0m         for hook in itertools.chain(\n\u001b[0;32m    724\u001b[0m                 \u001b[0m_global_forward_hooks\u001b[0m\u001b[1;33m.\u001b[0m\u001b[0mvalues\u001b[0m\u001b[1;33m(\u001b[0m\u001b[1;33m)\u001b[0m\u001b[1;33m,\u001b[0m\u001b[1;33m\u001b[0m\u001b[1;33m\u001b[0m\u001b[0m\n",
      "\u001b[1;32m~\\anaconda3\\lib\\site-packages\\torch\\nn\\modules\\batchnorm.py\u001b[0m in \u001b[0;36mforward\u001b[1;34m(self, input)\u001b[0m\n\u001b[0;32m    129\u001b[0m         \u001b[0mused\u001b[0m \u001b[1;32mfor\u001b[0m \u001b[0mnormalization\u001b[0m \u001b[1;33m(\u001b[0m\u001b[0mi\u001b[0m\u001b[1;33m.\u001b[0m\u001b[0me\u001b[0m\u001b[1;33m.\u001b[0m \u001b[1;32min\u001b[0m \u001b[0meval\u001b[0m \u001b[0mmode\u001b[0m \u001b[0mwhen\u001b[0m \u001b[0mbuffers\u001b[0m \u001b[0mare\u001b[0m \u001b[1;32mnot\u001b[0m \u001b[1;32mNone\u001b[0m\u001b[1;33m)\u001b[0m\u001b[1;33m.\u001b[0m\u001b[1;33m\u001b[0m\u001b[1;33m\u001b[0m\u001b[0m\n\u001b[0;32m    130\u001b[0m         \"\"\"\n\u001b[1;32m--> 131\u001b[1;33m         return F.batch_norm(\n\u001b[0m\u001b[0;32m    132\u001b[0m             \u001b[0minput\u001b[0m\u001b[1;33m,\u001b[0m\u001b[1;33m\u001b[0m\u001b[1;33m\u001b[0m\u001b[0m\n\u001b[0;32m    133\u001b[0m             \u001b[1;31m# If buffers are not to be tracked, ensure that they won't be updated\u001b[0m\u001b[1;33m\u001b[0m\u001b[1;33m\u001b[0m\u001b[1;33m\u001b[0m\u001b[0m\n",
      "\u001b[1;32m~\\anaconda3\\lib\\site-packages\\torch\\nn\\functional.py\u001b[0m in \u001b[0;36mbatch_norm\u001b[1;34m(input, running_mean, running_var, weight, bias, training, momentum, eps)\u001b[0m\n\u001b[0;32m   2012\u001b[0m         \u001b[0m_verify_batch_size\u001b[0m\u001b[1;33m(\u001b[0m\u001b[0minput\u001b[0m\u001b[1;33m.\u001b[0m\u001b[0msize\u001b[0m\u001b[1;33m(\u001b[0m\u001b[1;33m)\u001b[0m\u001b[1;33m)\u001b[0m\u001b[1;33m\u001b[0m\u001b[1;33m\u001b[0m\u001b[0m\n\u001b[0;32m   2013\u001b[0m \u001b[1;33m\u001b[0m\u001b[0m\n\u001b[1;32m-> 2014\u001b[1;33m     return torch.batch_norm(\n\u001b[0m\u001b[0;32m   2015\u001b[0m         \u001b[0minput\u001b[0m\u001b[1;33m,\u001b[0m \u001b[0mweight\u001b[0m\u001b[1;33m,\u001b[0m \u001b[0mbias\u001b[0m\u001b[1;33m,\u001b[0m \u001b[0mrunning_mean\u001b[0m\u001b[1;33m,\u001b[0m \u001b[0mrunning_var\u001b[0m\u001b[1;33m,\u001b[0m\u001b[1;33m\u001b[0m\u001b[1;33m\u001b[0m\u001b[0m\n\u001b[0;32m   2016\u001b[0m         \u001b[0mtraining\u001b[0m\u001b[1;33m,\u001b[0m \u001b[0mmomentum\u001b[0m\u001b[1;33m,\u001b[0m \u001b[0meps\u001b[0m\u001b[1;33m,\u001b[0m \u001b[0mtorch\u001b[0m\u001b[1;33m.\u001b[0m\u001b[0mbackends\u001b[0m\u001b[1;33m.\u001b[0m\u001b[0mcudnn\u001b[0m\u001b[1;33m.\u001b[0m\u001b[0menabled\u001b[0m\u001b[1;33m\u001b[0m\u001b[1;33m\u001b[0m\u001b[0m\n",
      "\u001b[1;31mRuntimeError\u001b[0m: CUDA out of memory. Tried to allocate 16.00 MiB (GPU 0; 2.00 GiB total capacity; 1.11 GiB already allocated; 9.09 MiB free; 1.14 GiB reserved in total by PyTorch)"
     ]
    }
   ],
   "source": [
    "for i, data in enumerate(test_data_loader):\n",
    "    images, labels = data\n",
    "    images=images.to(device)\n",
    "    labels=labels.to(device)\n",
    "    outputs = net(images[0])\n",
    "    f, axarr = plt.subplots(1,3)\n",
    "\n",
    "    axarr[0].imshow(outputs[0].detach().numpy()[1,:,:])\n",
    "    axarr[0].set_title('Guessed labels')\n",
    "    \n",
    "    axarr[1].imshow(labels[0].detach().numpy()[0,0,:,:])\n",
    "    axarr[1].set_title('Ground truth labels')\n",
    "    \n",
    "    axarr[2].imshow(images[0].detach().numpy()[0,0,:,:])\n",
    "    axarr[2].set_title('Original Images')\n",
    "    plt.show()\n",
    "    plt.gcf().show()\n",
    "    if i>5:\n",
    "        break"
   ]
  },
  {
   "cell_type": "code",
   "execution_count": null,
   "metadata": {},
   "outputs": [],
   "source": []
  },
  {
   "cell_type": "markdown",
   "metadata": {},
   "source": [
    "#### 2. Необходимо скачать и подготовить датасет https://www.kaggle.com/olekslu/makeup-lips-segmentation-28k-samples/notebooks для обучения"
   ]
  },
  {
   "cell_type": "code",
   "execution_count": null,
   "metadata": {},
   "outputs": [],
   "source": []
  },
  {
   "cell_type": "code",
   "execution_count": 18,
   "metadata": {},
   "outputs": [],
   "source": [
    "path_img='E:\\\\datasets\\\\pytoch\\\\Lesson4\\\\set-lipstick-original\\\\720p\\\\'\n",
    "path_mask='E:\\\\datasets\\\\pytoch\\\\Lesson4\\\\set-lipstick-original\\\\mask\\\\'\n",
    "df_list=pd.read_csv('E:\\\\datasets\\\\pytoch\\\\Lesson4\\\\set-lipstick-original\\\\list.csv')\n",
    "\n",
    "df_list['filename']=path_img+df_list['filename']\n",
    "df_list['mask']=path_mask+df_list['mask']"
   ]
  },
  {
   "cell_type": "code",
   "execution_count": 19,
   "metadata": {},
   "outputs": [
    {
     "name": "stderr",
     "output_type": "stream",
     "text": [
      "<ipython-input-19-a623d71b2ce0>:3: SettingWithCopyWarning: \n",
      "A value is trying to be set on a copy of a slice from a DataFrame\n",
      "\n",
      "See the caveats in the documentation: https://pandas.pydata.org/pandas-docs/stable/user_guide/indexing.html#returning-a-view-versus-a-copy\n",
      "  df_list['is_files'][dx]=(os.access(df_list['mask'][dx],os.F_OK) & os.access(df_list['filename'][dx],os.F_OK))\n"
     ]
    }
   ],
   "source": [
    "df_list['is_files']=False\n",
    "for dx in range(df_list.shape[0]):\n",
    "    df_list['is_files'][dx]=(os.access(df_list['mask'][dx],os.F_OK) & os.access(df_list['filename'][dx],os.F_OK))\n",
    "df_list=df_list[df_list['is_files']==True]    "
   ]
  },
  {
   "cell_type": "code",
   "execution_count": 20,
   "metadata": {},
   "outputs": [
    {
     "name": "stdout",
     "output_type": "stream",
     "text": [
      "                                           cameraRGB  \\\n",
      "0  E:\\datasets\\pytoch\\Lesson4\\set-lipstick-origin...   \n",
      "1  E:\\datasets\\pytoch\\Lesson4\\set-lipstick-origin...   \n",
      "2  E:\\datasets\\pytoch\\Lesson4\\set-lipstick-origin...   \n",
      "3  E:\\datasets\\pytoch\\Lesson4\\set-lipstick-origin...   \n",
      "4  E:\\datasets\\pytoch\\Lesson4\\set-lipstick-origin...   \n",
      "\n",
      "                                           cameraSeg  \n",
      "0  E:\\datasets\\pytoch\\Lesson4\\set-lipstick-origin...  \n",
      "1  E:\\datasets\\pytoch\\Lesson4\\set-lipstick-origin...  \n",
      "2  E:\\datasets\\pytoch\\Lesson4\\set-lipstick-origin...  \n",
      "3  E:\\datasets\\pytoch\\Lesson4\\set-lipstick-origin...  \n",
      "4  E:\\datasets\\pytoch\\Lesson4\\set-lipstick-origin...  \n"
     ]
    }
   ],
   "source": [
    "df = pd.DataFrame({'cameraRGB': df_list['filename'], 'cameraSeg': df_list['mask']})\n",
    "# Отсортируем  датафрейм по значениям\n",
    "df.sort_values(by='cameraRGB',inplace=True)\n",
    "# Используем функцию,\n",
    "# лагодаря которой индексация значений \n",
    "# будет начинаться с 0.\n",
    "df.reset_index(drop=True, inplace=True)\n",
    "# Выведем первые ять значений нашего датафрейма\n",
    "print(df.head(5))"
   ]
  },
  {
   "cell_type": "code",
   "execution_count": 21,
   "metadata": {},
   "outputs": [],
   "source": [
    "from sklearn.model_selection import train_test_split\n",
    "\n",
    "# 70 % в тренировочную выборку, 30 - в тестовую\n",
    "X_train, X_test = train_test_split(df,test_size=0.3)\n",
    "\n",
    "# Упорядочиваем индексацию\n",
    "X_train.reset_index(drop=True,inplace=True)\n",
    "X_test.reset_index(drop=True,inplace=True)\n",
    "\n",
    "# Оборачиваем каждую выборку в наш кастомный датасет\n",
    "train_data = CustomDatasetFromImages(X_train)\n",
    "test_data = CustomDatasetFromImages(X_test)"
   ]
  },
  {
   "cell_type": "code",
   "execution_count": 22,
   "metadata": {},
   "outputs": [],
   "source": [
    "train_data_loader = DataLoader(train_data,batch_size=1,shuffle=True)\n",
    "test_data_loader = DataLoader(test_data,batch_size=1,shuffle=False)"
   ]
  },
  {
   "cell_type": "markdown",
   "metadata": {},
   "source": [
    "#### 3. И затем обучить Модель на выбор из segmentation_models_pytorch"
   ]
  },
  {
   "cell_type": "code",
   "execution_count": null,
   "metadata": {},
   "outputs": [
    {
     "name": "stdout",
     "output_type": "stream",
     "text": [
      "5 epochs, 19978 total_steps per epoch\n"
     ]
    }
   ],
   "source": [
    "import segmentation_models_pytorch as smp\n",
    "learning_rate = 0.001\n",
    "epochs = 5\n",
    "\n",
    "\n",
    "\n",
    "criterion = SoftDiceLoss()\n",
    "\n",
    "total_steps = len(train_data_loader)\n",
    "print(f\"{epochs} epochs, {total_steps} total_steps per epoch\")\n",
    "# создание модели\n",
    "segmodel = smp.Unet()\n",
    "segmodel = smp.Unet('resnet34', classes=12, activation='softmax').to(device)\n",
    "optimizer = torch.optim.Adam(segmodel.parameters(), lr=learning_rate)\n",
    "epoch_losses = []\n",
    "\n",
    "for epoch in range(20):  # loop over the dataset multiple times\n",
    "    running_loss = 0.0\n",
    "    epoch_loss = []\n",
    "    t = 0\n",
    "    time1 = time.time()\n",
    "    for i, data in enumerate(train_data_loader, 0):\n",
    "        # get the inputs; data is a list of [inputs, labels]\n",
    "        inputs, labels = data\n",
    "        inputs = inputs.to(device)\n",
    "        labels = labels.to(device)\n",
    "\n",
    "\n",
    "        # zero the parameter gradients\n",
    "        optimizer.zero_grad()\n",
    "\n",
    "        # forward + backward + optimize\n",
    "        outputs = segmodel(inputs[0])\n",
    "        loss = criterion(outputs,labels[0])\n",
    "        loss.backward()\n",
    "        optimizer.step()\n",
    "\n",
    "        # print statistics\n",
    "        running_loss += loss.item()\n",
    "        epoch_loss.append(loss.item())\n",
    "        t+=1\n",
    "        if t % 5000 == 4999:    # print every 5000 mini-batches\n",
    "            print(f'Epoch: {epoch}, batchcount: {t}, avg. loss for last 5000 images: {running_loss/5000}')\n",
    "    time2 = time.time()\n",
    "    print(f'Epoch {epoch+1}, loss: ',np.mean(epoch_loss),f' time = {time2-time1} sec')\n",
    "    epoch_losses.append(epoch_loss)"
   ]
  },
  {
   "cell_type": "code",
   "execution_count": null,
   "metadata": {},
   "outputs": [],
   "source": []
  }
 ],
 "metadata": {
  "kernelspec": {
   "display_name": "Python 3",
   "language": "python",
   "name": "python3"
  },
  "language_info": {
   "codemirror_mode": {
    "name": "ipython",
    "version": 3
   },
   "file_extension": ".py",
   "mimetype": "text/x-python",
   "name": "python",
   "nbconvert_exporter": "python",
   "pygments_lexer": "ipython3",
   "version": "3.8.3"
  }
 },
 "nbformat": 4,
 "nbformat_minor": 2
}
